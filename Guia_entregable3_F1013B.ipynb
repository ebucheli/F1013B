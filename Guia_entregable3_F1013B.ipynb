{
 "cells": [
  {
   "cell_type": "markdown",
   "metadata": {},
   "source": [
    "# Guía para tercer entregable del reto: Diagnóstico de la Malaria\n",
    "\n",
    "Clase: F1013B Modelación Computacional de Sistemas Eléctricos\n",
    "\n",
    "Autor: Edoardo Bucheli\n",
    "\n",
    "Profesor de Cátedra, Tec de Monterrey Campus Santa Fe"
   ]
  },
  {
   "cell_type": "code",
   "execution_count": 19,
   "metadata": {},
   "outputs": [],
   "source": [
    "import numpy as np\n",
    "import matplotlib.pyplot as plt"
   ]
  },
  {
   "cell_type": "markdown",
   "metadata": {},
   "source": [
    "En esta última entrega necesitamos simular la fuerza eléctrica que experimenta un dipolo puntual dado el campo eléctrico. Para ello necesitamos definir los valores del dipolo y recordar que la fuerza eléctrica que experimenta una partícula dado el campo eléctrico es igual a,\n",
    "\n",
    "$$\\vec{F}=q\\vec{E}$$\n",
    "\n",
    "Donde $\\vec{F}$ es el vector de fuerza, $q$ es una de las cargas del dipolo y $\\vec{E}$ es el campo eléctrico.\n",
    "\n",
    "Por lo tanto necesitamos encontrar el vector del campo $\\vec{E}$ para un punto dado $(x,y)$.\n",
    "\n",
    "Cuando calculamos el campo eléctrico, no lo hicimos para todas las coordenadas, sino para algunas en nuestra cuadrícula. Por lo que vamos a tener que hacer una aproximación. Es decir, encontrar el punto más cercano en la cuadrícula y tomar los valores del campo en esa coordenada.\n",
    "\n",
    "Para hacer eso puedes usar la siguiente función,"
   ]
  },
  {
   "cell_type": "code",
   "execution_count": 20,
   "metadata": {},
   "outputs": [],
   "source": [
    "def find_nearest_indx(array, value):\n",
    "    array = np.asarray(array)\n",
    "    idx = (np.abs(array - value)).argmin()\n",
    "    return idx"
   ]
  },
  {
   "cell_type": "markdown",
   "metadata": {},
   "source": [
    "La función `find_nearest_indx()` toma un arreglo y un valor y te regresa el índice del valor de `array` más cercano a `value`. Con esto puedes encontrar las coordenadas del campo. Te sugiero en `array` usar las variables `x` y `y` minúsculas como corresponda."
   ]
  },
  {
   "cell_type": "code",
   "execution_count": 21,
   "metadata": {},
   "outputs": [],
   "source": [
    "N = 31\n",
    "grid_min = -10\n",
    "grid_max = 10\n",
    "\n",
    "x = np.linspace(grid_min, grid_max,N)\n",
    "y = np.linspace(grid_min, grid_max,N)\n",
    "\n",
    "X,Y = np.meshgrid(x,y)"
   ]
  },
  {
   "cell_type": "markdown",
   "metadata": {},
   "source": [
    "De ahí solo necesitas multiplicar la carga que quieres modelar por el valor del campo eléctrico que encontraste.\n",
    "\n",
    "Si tienes un dipolo puntual, entonces necesitas escoger dos cargas de signo opuesto, calcular el vector resultante de cada carga y sumarlos.\n",
    "\n",
    "### Consideraciones\n",
    "<ul>\n",
    "    <li>\n",
    "        Si quieres mejorar tu aproximación, haz más grande `N` para que tenga mayor resolución tu cuadrícula. Pero ten en cuenta que si usas muchos vectores tu visualización no se apreciará muy bien. Puedes arreglar esto de dos formas.\n",
    "        <ol>\n",
    "            <li>Calcular dos campos, uno con resolución muy alta y otro con resolución más pequeña, usar el de resolución más alta para calcular Fuerza Eléctrica y el otro para visualizar ó</li>\n",
    "            <li>Calcular un solo campo con resolución alta y a la hora de visualizar el campo mostrar solo cada `n` valores. (puedes definir n según la resolución que hayas escogido)</li>\n",
    "        </ol>\n",
    "    </li>\n",
    "    <li>Experimenta moviendo el tamaño y orientación (horizontal y vertical) de las barras del campo eléctrico</li>\n",
    "    <li>Una vez que hayas calculado la fuerza eléctrica para el dipolo, agrégalo a tu visualización. te recomiendo usar plt.scatter() para poner el punto y usar quiver para dibujar una flecha con la fuerza eléctrica. Puedes usar el parámetro color para cambiar el color de la flecha y que no se confunda con las flechas del campo eléctrico.</li>\n",
    "</ul>"
   ]
  },
  {
   "cell_type": "code",
   "execution_count": null,
   "metadata": {},
   "outputs": [],
   "source": []
  }
 ],
 "metadata": {
  "kernelspec": {
   "display_name": "Python 3",
   "language": "python",
   "name": "python3"
  },
  "language_info": {
   "codemirror_mode": {
    "name": "ipython",
    "version": 3
   },
   "file_extension": ".py",
   "mimetype": "text/x-python",
   "name": "python",
   "nbconvert_exporter": "python",
   "pygments_lexer": "ipython3",
   "version": "3.6.7"
  }
 },
 "nbformat": 4,
 "nbformat_minor": 2
}
